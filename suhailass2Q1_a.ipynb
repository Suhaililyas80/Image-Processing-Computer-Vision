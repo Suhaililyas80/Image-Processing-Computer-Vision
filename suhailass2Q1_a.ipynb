{
  "nbformat": 4,
  "nbformat_minor": 0,
  "metadata": {
    "colab": {
      "provenance": [],
      "include_colab_link": true
    },
    "kernelspec": {
      "name": "python3",
      "display_name": "Python 3"
    },
    "language_info": {
      "name": "python"
    }
  },
  "cells": [
    {
      "cell_type": "markdown",
      "metadata": {
        "id": "view-in-github",
        "colab_type": "text"
      },
      "source": [
        "<a href=\"https://colab.research.google.com/github/Suhaililyas80/Image-Processing-Computer-Vision/blob/main/suhailass2Q1_a.ipynb\" target=\"_parent\"><img src=\"https://colab.research.google.com/assets/colab-badge.svg\" alt=\"Open In Colab\"/></a>"
      ]
    },
    {
      "cell_type": "code",
      "execution_count": null,
      "metadata": {
        "id": "-SBc9LhSAqbK"
      },
      "outputs": [],
      "source": [
        " from PIL import Image\n",
        "import cv2\n",
        "import numpy as np\n",
        "import matplotlib.pyplot as plt\n",
        "from skimage import io\n",
        "from google.colab.patches import cv2_imshow"
      ]
    },
    {
      "cell_type": "code",
      "source": [
        "n = input (\"Give the input number :\")\n",
        "first = int((int(n)%100)/10)\n",
        "second= int(n)%10\n",
        "digit=[first,second]"
      ],
      "metadata": {
        "id": "G2P4n4uNC3vb",
        "colab": {
          "base_uri": "https://localhost:8080/"
        },
        "outputId": "7f38b79c-e554-45d9-dc58-53be8fd06bf5"
      },
      "execution_count": null,
      "outputs": [
        {
          "name": "stdout",
          "output_type": "stream",
          "text": [
            "Give the input number :5364757\n"
          ]
        }
      ]
    },
    {
      "cell_type": "code",
      "source": [
        "def draw_pattern(img_1,a,b):\n",
        "    img =img_1.copy()\n",
        "    for m in range(a-25,a+26):\n",
        "        for n in range(b-25,b+26):\n",
        "            \"\"\"\n",
        "            for k in range(3):\n",
        "                if ((m-a)**2)+((n-b)**2)<=625:\n",
        "                    img[n][m][k]=255\n",
        "            \"\"\"\n",
        "            if ((m-a)**2)+((n-b)**2)<=625:\n",
        "                    img[m][n]=255\n",
        "\n",
        "    return img"
      ],
      "metadata": {
        "id": "Tlc9BUnZcRyf"
      },
      "execution_count": null,
      "outputs": []
    },
    {
      "cell_type": "code",
      "source": [
        "data1 = np.zeros((300, 250), dtype=np.uint8)\n",
        "img1 = Image.fromarray(data1, mode=\"L\")\n",
        "\n",
        "data2 = np.zeros((300, 250), dtype=np.uint8)\n",
        "img2 = Image.fromarray(data2, mode=\"L\")\n",
        "\n",
        "photo = [np.array(img1), np.array(img2)]"
      ],
      "metadata": {
        "id": "Rp9-jgsGcgOz"
      },
      "execution_count": null,
      "outputs": []
    },
    {
      "cell_type": "code",
      "source": [
        "\n",
        "for p in range(2):\n",
        "    for j in range(61,247,62):\n",
        "            for i in range(49,299,50):\n",
        "                if j==61:\n",
        "                    if i==49:\n",
        "                        a=[0,2,3,4,5,6,7,8,9]\n",
        "                        if digit[p] in a:\n",
        "                            photo[p]=draw_pattern(photo[p],i,j)\n",
        "                    elif i==99:\n",
        "                        a=[0,4,5,6,8,9]\n",
        "                        if digit[p] in a:\n",
        "                            photo[p]=draw_pattern(photo[p],i,j)\n",
        "                    elif i==149:\n",
        "                        a=[0,2,3,4,5,6,8,9]\n",
        "                        if digit[p] in a:\n",
        "                            photo[p]=draw_pattern(photo[p],i,j)\n",
        "                    elif i==199:\n",
        "                        a=[0,2,6,8]\n",
        "                        if digit[p] in a:\n",
        "                            photo[p]=draw_pattern(photo[p],i,j)\n",
        "                    elif i==249:\n",
        "                        a=[0,2,3,5,6,8,9]\n",
        "                        if digit[p] in a:\n",
        "                            photo[p]=draw_pattern(photo[p],i,j)\n",
        "                elif j==123:\n",
        "                    if i==49:\n",
        "                        a=[0,2,3,5,6,7,8,9]\n",
        "                        if digit[p] in a:\n",
        "                            photo[p]=draw_pattern(photo[p],i,j)\n",
        "                    elif i==99:\n",
        "                        a=[]\n",
        "                        if digit[p] in a:\n",
        "                            photo[p]=draw_pattern(photo[p],i,j)\n",
        "                    elif i==149:\n",
        "                        a=[2,3,4,5,6,8,9]\n",
        "                        if digit[p] in a:\n",
        "                            photo[p]=draw_pattern(photo[p],i,j)\n",
        "                    elif i==199:\n",
        "                        a=[]\n",
        "                        if digit[p] in a:\n",
        "                            photo[p]=draw_pattern(photo[p],i,j)\n",
        "                    elif i==249:\n",
        "                        a=[0,2,3,5,6,8,9]\n",
        "                        if digit[p] in a:\n",
        "                            photo[p]=draw_pattern(photo[p],i,j)\n",
        "                    del a\n",
        "                elif j==185:\n",
        "                    if i==49:\n",
        "                        a=[0,1,2,3,4,5,6,7,8,9]\n",
        "                        if digit[p] in a:\n",
        "                            photo[p]=draw_pattern(photo[p],i,j)\n",
        "                    elif i==99:\n",
        "                        a=[0,1,2,3,4,7,8,9]\n",
        "                        if digit[p] in a:\n",
        "                            photo[p]=draw_pattern(photo[p],i,j)\n",
        "                    elif i==149:\n",
        "                        a=[0,1,2,3,4,5,6,7,8,9]\n",
        "                        if digit[p] in a:\n",
        "                            photo[p]=draw_pattern(photo[p],i,j)\n",
        "                    elif i==199:\n",
        "                        a=[0,1,3,4,5,6,7,8,9]\n",
        "                        if digit[p] in a:\n",
        "                            photo[p]=draw_pattern(photo[p],i,j)\n",
        "                    elif i==249:\n",
        "                        a=[0,1,2,3,4,5,6,7,8,9]\n",
        "                        if digit[p] in a:\n",
        "                            photo[p]=draw_pattern(photo[p],i,j)\n",
        "                    del a"
      ],
      "metadata": {
        "id": "qmtR6XmicjPy"
      },
      "execution_count": null,
      "outputs": []
    },
    {
      "cell_type": "code",
      "source": [
        "final_image = np.concatenate((photo[0], photo[1]), axis=1)\n"
      ],
      "metadata": {
        "id": "CyDZB3_XdAND"
      },
      "execution_count": null,
      "outputs": []
    },
    {
      "cell_type": "code",
      "source": [
        "plt.axis('off')\n",
        "io.imshow(final_image)"
      ],
      "metadata": {
        "id": "7szXV749dFB9",
        "colab": {
          "base_uri": "https://localhost:8080/",
          "height": 420
        },
        "outputId": "34bc70ae-3f02-4225-f9ab-ee717609a044"
      },
      "execution_count": null,
      "outputs": [
        {
          "output_type": "execute_result",
          "data": {
            "text/plain": [
              "<matplotlib.image.AxesImage at 0x7f3e00f8c6d0>"
            ]
          },
          "metadata": {},
          "execution_count": 22
        },
        {
          "output_type": "display_data",
          "data": {
            "text/plain": [
              "<Figure size 640x480 with 1 Axes>"
            ],
            "image/png": "[encoded data removed]"
          },
          "metadata": {}
        }
      ]
    }
  ]
}